{
 "cells": [
  {
   "cell_type": "code",
   "execution_count": 1,
   "id": "de0af638-db04-43ad-a7a4-872f52ce8aac",
   "metadata": {},
   "outputs": [],
   "source": [
    "import os\n",
    "import numpy as np\n",
    "import pandas as pd"
   ]
  },
  {
   "cell_type": "code",
   "execution_count": 7,
   "id": "c1874b02-edb5-4fff-ab3a-853e0ae20668",
   "metadata": {},
   "outputs": [],
   "source": [
    "pd.options.display.max_rows = None"
   ]
  },
  {
   "cell_type": "code",
   "execution_count": 2,
   "id": "8226ecb5-641a-41e5-88d0-c7993fa22c8c",
   "metadata": {},
   "outputs": [],
   "source": [
    "folder = \"C:/Users/Hrushikesh.Hrushikesh-Asus/Desktop/Courses/Udemy/Credit Risk Modeling in Python/\"\n",
    "filepath = 'dataset/loan_data_2007_2014.csv'\n",
    "\n",
    "# Use os.path.join to concatenate the folder and file paths\n",
    "file_path = os.path.join(folder, filepath)\n",
    "\n",
    "# Read the CSV file with the index_col parameter specified\n",
    "loan_data = pd.read_csv(file_path, index_col=0, low_memory=False)"
   ]
  },
  {
   "cell_type": "code",
   "execution_count": 10,
   "id": "4aad54aa-ca49-4767-b448-04755bec317c",
   "metadata": {
    "scrolled": true
   },
   "outputs": [
    {
     "data": {
      "text/plain": [
       "['acc_now_delinq',\n",
       " 'addr_state',\n",
       " 'all_util',\n",
       " 'annual_inc',\n",
       " 'annual_inc_joint',\n",
       " 'application_type',\n",
       " 'collection_recovery_fee',\n",
       " 'collections_12_mths_ex_med',\n",
       " 'delinq_2yrs',\n",
       " 'desc',\n",
       " 'dti',\n",
       " 'dti_joint',\n",
       " 'earliest_cr_line',\n",
       " 'emp_length',\n",
       " 'emp_title',\n",
       " 'funded_amnt',\n",
       " 'funded_amnt_inv',\n",
       " 'grade',\n",
       " 'home_ownership',\n",
       " 'id',\n",
       " 'il_util',\n",
       " 'initial_list_status',\n",
       " 'inq_fi',\n",
       " 'inq_last_12m',\n",
       " 'inq_last_6mths',\n",
       " 'installment',\n",
       " 'int_rate',\n",
       " 'issue_d',\n",
       " 'last_credit_pull_d',\n",
       " 'last_pymnt_amnt',\n",
       " 'last_pymnt_d',\n",
       " 'loan_amnt',\n",
       " 'loan_status',\n",
       " 'max_bal_bc',\n",
       " 'member_id',\n",
       " 'mths_since_last_delinq',\n",
       " 'mths_since_last_major_derog',\n",
       " 'mths_since_last_record',\n",
       " 'mths_since_rcnt_il',\n",
       " 'next_pymnt_d',\n",
       " 'open_acc',\n",
       " 'open_acc_6m',\n",
       " 'open_il_12m',\n",
       " 'open_il_24m',\n",
       " 'open_il_6m',\n",
       " 'open_rv_12m',\n",
       " 'open_rv_24m',\n",
       " 'out_prncp',\n",
       " 'out_prncp_inv',\n",
       " 'policy_code',\n",
       " 'pub_rec',\n",
       " 'purpose',\n",
       " 'pymnt_plan',\n",
       " 'recoveries',\n",
       " 'revol_bal',\n",
       " 'revol_util',\n",
       " 'sub_grade',\n",
       " 'term',\n",
       " 'title',\n",
       " 'tot_coll_amt',\n",
       " 'tot_cur_bal',\n",
       " 'total_acc',\n",
       " 'total_bal_il',\n",
       " 'total_cu_tl',\n",
       " 'total_pymnt',\n",
       " 'total_pymnt_inv',\n",
       " 'total_rec_int',\n",
       " 'total_rec_late_fee',\n",
       " 'total_rec_prncp',\n",
       " 'total_rev_hi_lim',\n",
       " 'url',\n",
       " 'verification_status',\n",
       " 'verification_status_joint',\n",
       " 'zip_code']"
      ]
     },
     "execution_count": 10,
     "metadata": {},
     "output_type": "execute_result"
    }
   ],
   "source": [
    "sorted(loan_data.columns.values)"
   ]
  },
  {
   "cell_type": "code",
   "execution_count": 8,
   "id": "d345f412-aecf-4772-97aa-41167fe0280b",
   "metadata": {
    "scrolled": true
   },
   "outputs": [
    {
     "data": {
      "text/plain": [
       "id                                                                       1076863\n",
       "member_id                                                                1277178\n",
       "loan_amnt                                                                  10000\n",
       "funded_amnt                                                                10000\n",
       "funded_amnt_inv                                                          10000.0\n",
       "term                                                                   36 months\n",
       "int_rate                                                                   13.49\n",
       "installment                                                               339.31\n",
       "grade                                                                          C\n",
       "sub_grade                                                                     C1\n",
       "emp_title                                                    AIR RESOURCES BOARD\n",
       "emp_length                                                             10+ years\n",
       "home_ownership                                                              RENT\n",
       "annual_inc                                                               49200.0\n",
       "verification_status                                              Source Verified\n",
       "issue_d                                                                   Dec-11\n",
       "loan_status                                                           Fully Paid\n",
       "pymnt_plan                                                                     n\n",
       "url                            https://www.lendingclub.com/browse/loanDetail....\n",
       "desc                             Borrower added on 12/21/11 > to pay for prop...\n",
       "purpose                                                                    other\n",
       "title                                                                   personel\n",
       "zip_code                                                                   917xx\n",
       "addr_state                                                                    CA\n",
       "dti                                                                         20.0\n",
       "delinq_2yrs                                                                  0.0\n",
       "earliest_cr_line                                                          Feb-96\n",
       "inq_last_6mths                                                               1.0\n",
       "mths_since_last_delinq                                                      35.0\n",
       "mths_since_last_record                                                       NaN\n",
       "open_acc                                                                    10.0\n",
       "pub_rec                                                                      0.0\n",
       "revol_bal                                                                   5598\n",
       "revol_util                                                                  21.0\n",
       "total_acc                                                                   37.0\n",
       "initial_list_status                                                            f\n",
       "out_prncp                                                                    0.0\n",
       "out_prncp_inv                                                                0.0\n",
       "total_pymnt                                                          12226.30221\n",
       "total_pymnt_inv                                                          12226.3\n",
       "total_rec_prncp                                                          10000.0\n",
       "total_rec_int                                                            2209.33\n",
       "total_rec_late_fee                                                         16.97\n",
       "recoveries                                                                   0.0\n",
       "collection_recovery_fee                                                      0.0\n",
       "last_pymnt_d                                                              Jan-15\n",
       "last_pymnt_amnt                                                           357.48\n",
       "next_pymnt_d                                                                 NaN\n",
       "last_credit_pull_d                                                        Jan-15\n",
       "collections_12_mths_ex_med                                                   0.0\n",
       "mths_since_last_major_derog                                                  NaN\n",
       "policy_code                                                                    1\n",
       "application_type                                                      INDIVIDUAL\n",
       "annual_inc_joint                                                             NaN\n",
       "dti_joint                                                                    NaN\n",
       "verification_status_joint                                                    NaN\n",
       "acc_now_delinq                                                               0.0\n",
       "tot_coll_amt                                                                 NaN\n",
       "tot_cur_bal                                                                  NaN\n",
       "open_acc_6m                                                                  NaN\n",
       "open_il_6m                                                                   NaN\n",
       "open_il_12m                                                                  NaN\n",
       "open_il_24m                                                                  NaN\n",
       "mths_since_rcnt_il                                                           NaN\n",
       "total_bal_il                                                                 NaN\n",
       "il_util                                                                      NaN\n",
       "open_rv_12m                                                                  NaN\n",
       "open_rv_24m                                                                  NaN\n",
       "max_bal_bc                                                                   NaN\n",
       "all_util                                                                     NaN\n",
       "total_rev_hi_lim                                                             NaN\n",
       "inq_fi                                                                       NaN\n",
       "total_cu_tl                                                                  NaN\n",
       "inq_last_12m                                                                 NaN\n",
       "Name: 3, dtype: object"
      ]
     },
     "execution_count": 8,
     "metadata": {},
     "output_type": "execute_result"
    }
   ],
   "source": [
    "loan_data.iloc[3]"
   ]
  },
  {
   "cell_type": "code",
   "execution_count": 12,
   "id": "6abff707-103f-486c-922f-d0119c04d185",
   "metadata": {},
   "outputs": [
    {
     "data": {
      "text/plain": [
       "array([ 0.,  1., nan,  2.,  3.,  5.,  4.])"
      ]
     },
     "execution_count": 12,
     "metadata": {},
     "output_type": "execute_result"
    }
   ],
   "source": [
    "loan_data['acc_now_delinq'].unique()"
   ]
  },
  {
   "cell_type": "code",
   "execution_count": 28,
   "id": "582e67b2-8537-491e-8b12-5ef0a98c804e",
   "metadata": {},
   "outputs": [
    {
     "data": {
      "text/plain": [
       "array(['Fully Paid', 'Charged Off', 'Current', 'Default',\n",
       "       'Late (31-120 days)', 'In Grace Period', 'Late (16-30 days)',\n",
       "       'Does not meet the credit policy. Status:Fully Paid',\n",
       "       'Does not meet the credit policy. Status:Charged Off'],\n",
       "      dtype=object)"
      ]
     },
     "execution_count": 28,
     "metadata": {},
     "output_type": "execute_result"
    }
   ],
   "source": [
    "loan_data['loan_status'].unique()"
   ]
  },
  {
   "cell_type": "code",
   "execution_count": 13,
   "id": "5622a819-bf92-4122-99cf-1291ccd243ec",
   "metadata": {},
   "outputs": [],
   "source": [
    "loan_data['good_bad'] = np.where(loan_data['loan_status'].isin(\n",
    "    ['Charged Off', 'Default', 'Late (31-120 days)',\n",
    "     'Does not meet the credit policy. Status:Charged Off']), 0, 1)"
   ]
  },
  {
   "cell_type": "code",
   "execution_count": 19,
   "id": "a1481902-e540-4c39-a9e1-2f6d142ec951",
   "metadata": {},
   "outputs": [
    {
     "data": {
      "text/html": [
       "<div>\n",
       "<style scoped>\n",
       "    .dataframe tbody tr th:only-of-type {\n",
       "        vertical-align: middle;\n",
       "    }\n",
       "\n",
       "    .dataframe tbody tr th {\n",
       "        vertical-align: top;\n",
       "    }\n",
       "\n",
       "    .dataframe thead th {\n",
       "        text-align: right;\n",
       "    }\n",
       "</style>\n",
       "<table border=\"1\" class=\"dataframe\">\n",
       "  <thead>\n",
       "    <tr style=\"text-align: right;\">\n",
       "      <th></th>\n",
       "      <th>good_bad</th>\n",
       "      <th>loan_status</th>\n",
       "    </tr>\n",
       "  </thead>\n",
       "  <tbody>\n",
       "    <tr>\n",
       "      <th>4215</th>\n",
       "      <td>1</td>\n",
       "      <td>Fully Paid</td>\n",
       "    </tr>\n",
       "    <tr>\n",
       "      <th>20965</th>\n",
       "      <td>1</td>\n",
       "      <td>Fully Paid</td>\n",
       "    </tr>\n",
       "    <tr>\n",
       "      <th>174076</th>\n",
       "      <td>1</td>\n",
       "      <td>Fully Paid</td>\n",
       "    </tr>\n",
       "    <tr>\n",
       "      <th>216563</th>\n",
       "      <td>1</td>\n",
       "      <td>Fully Paid</td>\n",
       "    </tr>\n",
       "    <tr>\n",
       "      <th>285368</th>\n",
       "      <td>1</td>\n",
       "      <td>Current</td>\n",
       "    </tr>\n",
       "  </tbody>\n",
       "</table>\n",
       "</div>"
      ],
      "text/plain": [
       "        good_bad loan_status\n",
       "4215           1  Fully Paid\n",
       "20965          1  Fully Paid\n",
       "174076         1  Fully Paid\n",
       "216563         1  Fully Paid\n",
       "285368         1     Current"
      ]
     },
     "execution_count": 19,
     "metadata": {},
     "output_type": "execute_result"
    }
   ],
   "source": [
    "loan_data[['good_bad', 'loan_status']].sample(5)"
   ]
  },
  {
   "cell_type": "code",
   "execution_count": 29,
   "id": "4705c266-fd4a-4ff1-a464-bcb8a7b35cea",
   "metadata": {},
   "outputs": [
    {
     "data": {
      "text/plain": [
       "array(['Charged Off', 'Default', 'Late (31-120 days)',\n",
       "       'Does not meet the credit policy. Status:Charged Off'],\n",
       "      dtype=object)"
      ]
     },
     "execution_count": 29,
     "metadata": {},
     "output_type": "execute_result"
    }
   ],
   "source": [
    "loan_data['loan_status'][loan_data['good_bad'] == 0].unique()"
   ]
  },
  {
   "cell_type": "code",
   "execution_count": 27,
   "id": "90b43d7b-8c76-432d-abe9-22d01b09e481",
   "metadata": {},
   "outputs": [
    {
     "data": {
      "text/plain": [
       "array(['Fully Paid', 'Current', 'In Grace Period', 'Late (16-30 days)',\n",
       "       'Does not meet the credit policy. Status:Fully Paid'], dtype=object)"
      ]
     },
     "execution_count": 27,
     "metadata": {},
     "output_type": "execute_result"
    }
   ],
   "source": [
    "loan_data['loan_status'][loan_data['good_bad'] == 1].unique()"
   ]
  },
  {
   "cell_type": "code",
   "execution_count": null,
   "id": "885c7abe-f3c7-4e17-9e83-a507ca10ce85",
   "metadata": {},
   "outputs": [],
   "source": []
  }
 ],
 "metadata": {
  "kernelspec": {
   "display_name": "Python 3 (ipykernel)",
   "language": "python",
   "name": "python3"
  },
  "language_info": {
   "codemirror_mode": {
    "name": "ipython",
    "version": 3
   },
   "file_extension": ".py",
   "mimetype": "text/x-python",
   "name": "python",
   "nbconvert_exporter": "python",
   "pygments_lexer": "ipython3",
   "version": "3.11.5"
  }
 },
 "nbformat": 4,
 "nbformat_minor": 5
}
